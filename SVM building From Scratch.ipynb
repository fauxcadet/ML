{
 "cells": [
  {
   "cell_type": "code",
   "execution_count": 2,
   "id": "43dc09c2-8470-4ae1-a00c-6fcc547a1e04",
   "metadata": {},
   "outputs": [],
   "source": [
    "import numpy as np"
   ]
  },
  {
   "cell_type": "code",
   "execution_count": null,
   "id": "ff191f46-c358-43f6-9b4f-e6ca74938048",
   "metadata": {},
   "outputs": [],
   "source": [
    "class svm_classifier():\n",
    "    def __ini__(self,learning_rate,no_of_iterations,lambda_parameter):\n",
    "        self.learning_rate=learning_rate\n",
    "        self.no_of_iterations=no_of_iterations\n",
    "        self.lambda_parameter=lambda_parameter\n",
    "        \n",
    "        \n",
    "    def fit(self,X,Y):\n",
    "        self.m,self.n=X.shape\n",
    "        self.w=np.zeroes(self.n)\n",
    "        self.b=0\n",
    "        self.X=X\n",
    "        self.Y=Y\n",
    "\n",
    "        for i in range(no_of_iterations):\n",
    "            self.update_weights()\n",
    "    \n",
    "    def update_weights(self,):\n",
    "        y_label=np.where(self.Y<=0,-1,1)\n",
    "        for index,x_i in enumerate(self.X):\n",
    "            condition=y_label[index]*(np.dot(x_i, self.w)-self.b) >=1\n",
    "            if(condition==True):\n",
    "                dw=2*self.lambda_parameter*self.w\n",
    "                db=0\n",
    "            else:\n",
    "                 dw=2*self.lambda_parameter*self.w-np.dot(x_i,y-label[index])\n",
    "                db=y_label[index]\n",
    "            self.w=self.w-self.learning_rate*dw    \n",
    "            self.b=self.b-self.learning_rate*db\n",
    "    def predict(self,X):\n",
    "        output = np.dot(X,self.w)-self.b\n",
    "        predicted_label = np.sign(output)\n",
    "\n",
    "        y_hat=np.where(predicted_label >= -1,0,1)\n",
    "        "
   ]
  }
 ],
 "metadata": {
  "kernelspec": {
   "display_name": "Python [conda env:base] *",
   "language": "python",
   "name": "conda-base-py"
  },
  "language_info": {
   "codemirror_mode": {
    "name": "ipython",
    "version": 3
   },
   "file_extension": ".py",
   "mimetype": "text/x-python",
   "name": "python",
   "nbconvert_exporter": "python",
   "pygments_lexer": "ipython3",
   "version": "3.12.7"
  }
 },
 "nbformat": 4,
 "nbformat_minor": 5
}
