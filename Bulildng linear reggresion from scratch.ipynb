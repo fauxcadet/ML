{
 "cells": [
  {
   "cell_type": "code",
   "execution_count": 2,
   "id": "8e361c7e-9a27-4424-bd70-7b7dea579c96",
   "metadata": {},
   "outputs": [],
   "source": [
    "import numpy as np"
   ]
  },
  {
   "cell_type": "code",
   "execution_count": 48,
   "id": "857d950e-df47-4576-abb3-e6d0fee6f7cc",
   "metadata": {},
   "outputs": [],
   "source": [
    "class linear_regression():\n",
    "    # initiating the hyper parameters lr and no of iteration\n",
    "    \n",
    "    def __init__(self,learning_rate,no_of_iterations): \n",
    "          self.learning_rate=learning_rate\n",
    "          self.no_of_iterations= no_of_iteration\n",
    "    \n",
    "    def fit(self,X,Y):\n",
    "        # no. of traning examples\n",
    "        self.m,self.n=X.shape # no. of rows and columns\n",
    "        # initializing weight n bias\n",
    "        self.w=np.zeros(self.n)\n",
    "        self.b=0\n",
    "        self.X=X\n",
    "        self.Y=Y\n",
    "        \n",
    "        #implementing Gradient descent\n",
    "        for i in range(self.no_of_iterations):\n",
    "            self.update_weights()\n",
    "        \n",
    "\n",
    "\n",
    "\n",
    "    def update_weights(self, ):\n",
    "        Y_prediction=self.predict(self.X)\n",
    "        dw=-(2*(self.X.T).dot(self.Y-Y_predictions))/self.m\n",
    "\n",
    "        db=-2 * np.sum(self.Y-Y_prediction)/self.m\n",
    "        # updating weights\n",
    "        self.w= self.w-self.learning_rate*dw\n",
    "        self.b= self.b-self.learning_rate*db\n",
    "        \n",
    "\n",
    "    def predict(self,X ):\n",
    "        return X.dot(self.w) + self.b\n",
    "         \n",
    "        "
   ]
  },
  {
   "cell_type": "code",
   "execution_count": 38,
   "id": "110ea4eb-9c42-42cf-92cb-fa0c1cf57c63",
   "metadata": {},
   "outputs": [],
   "source": [
    "from sklearn.linear_model import LogisticRegression\n",
    "model = LogisticRegression()"
   ]
  },
  {
   "cell_type": "code",
   "execution_count": null,
   "id": "1e057eb3-275b-440f-908f-6bf1b43b7774",
   "metadata": {},
   "outputs": [],
   "source": []
  }
 ],
 "metadata": {
  "kernelspec": {
   "display_name": "Python [conda env:base] *",
   "language": "python",
   "name": "conda-base-py"
  },
  "language_info": {
   "codemirror_mode": {
    "name": "ipython",
    "version": 3
   },
   "file_extension": ".py",
   "mimetype": "text/x-python",
   "name": "python",
   "nbconvert_exporter": "python",
   "pygments_lexer": "ipython3",
   "version": "3.12.7"
  }
 },
 "nbformat": 4,
 "nbformat_minor": 5
}
