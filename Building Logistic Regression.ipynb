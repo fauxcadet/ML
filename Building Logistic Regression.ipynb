{
 "cells": [
  {
   "cell_type": "code",
   "execution_count": 2,
   "id": "0dca2af0-8eb7-49f5-9d56-abb0c15ff1cd",
   "metadata": {},
   "outputs": [],
   "source": [
    "#importing dependencied\n",
    "\n",
    "import numpy as np"
   ]
  },
  {
   "cell_type": "code",
   "execution_count": 18,
   "id": "3bd835b7-141f-43ae-900e-345cff3701b0",
   "metadata": {},
   "outputs": [],
   "source": [
    "class logistic_regression():\n",
    "    # initiating with learnign rate and no of iterations\n",
    "    def __init__(self,learning_rate, no_of_iterations):\n",
    "        self.learning_rate=learning_rate\n",
    "        self.no_of_iterations=no_of_iterations\n",
    "        \n",
    "    def fit(self,X,Y):\n",
    "        self.m,self.n=X.shape\n",
    "        \n",
    "        self.w=np.zeros(self.n)\n",
    "        \n",
    "        self.X=X\n",
    "        self.Y=Y\n",
    "        for i in range(no_of_iterations):\n",
    "            self.update_weights()\n",
    "        \n",
    "        \n",
    "\n",
    "        \n",
    "    def update_weights(self):\n",
    "        Y_hat=1/(1+np.exp(-(self.X.dot(self.w)+self.b)))\n",
    "\n",
    "        dw=(1/self.m)*np.dot(self.X.T*(Y_hat-self.Y))        \n",
    "        db=(1/self.m)*np.sum((Y_hat-self.Y))        \n",
    "        self.w=self.w-self.learning_rate*dw\n",
    "        self.b=self.b-self.learning_rate*db\n",
    "\n",
    "        \n",
    "        \n",
    "    def predict(self):\n",
    "        Y_pred=1/(1+np.exp(-(self.X.dot(self.w)+self.b)))\n",
    "        Y_pred=np.where(Y_pred>0.5,1,0) # tp use as a sigmoid function\n",
    "        return Y_pred\n",
    "        \n",
    "        "
   ]
  },
  {
   "cell_type": "code",
   "execution_count": null,
   "id": "354423c5-5003-4ba2-8376-99380c60caa9",
   "metadata": {},
   "outputs": [],
   "source": []
  }
 ],
 "metadata": {
  "kernelspec": {
   "display_name": "Python [conda env:base] *",
   "language": "python",
   "name": "conda-base-py"
  },
  "language_info": {
   "codemirror_mode": {
    "name": "ipython",
    "version": 3
   },
   "file_extension": ".py",
   "mimetype": "text/x-python",
   "name": "python",
   "nbconvert_exporter": "python",
   "pygments_lexer": "ipython3",
   "version": "3.12.7"
  }
 },
 "nbformat": 4,
 "nbformat_minor": 5
}
